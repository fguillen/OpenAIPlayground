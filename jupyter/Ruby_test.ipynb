{
 "cells": [
  {
   "cell_type": "code",
   "execution_count": 1,
   "id": "655789d2-41fd-4f8b-b803-f583f4490754",
   "metadata": {},
   "outputs": [],
   "source": [
    "puts \"hello!\""
   ]
  },
  {
   "cell_type": "code",
   "execution_count": 2,
   "id": "651b55cd-3c01-4515-a41d-7edc490315b3",
   "metadata": {},
   "outputs": [],
   "source": [
    "a = 11"
   ]
  },
  {
   "cell_type": "code",
   "execution_count": 3,
   "id": "ed3f0327-8395-49e2-afd3-75e2b52d0a0c",
   "metadata": {},
   "outputs": [],
   "source": [
    "puts a\n"
   ]
  },
  {
   "cell_type": "code",
   "execution_count": null,
   "id": "3855a2d3-864c-4e45-b8ea-c3d448d32c24",
   "metadata": {},
   "outputs": [],
   "source": []
  },
  {
   "cell_type": "code",
   "execution_count": null,
   "id": "c6de798e-7c5c-488f-81ee-a139f99fcd9b",
   "metadata": {},
   "outputs": [],
   "source": []
  },
  {
   "cell_type": "code",
   "execution_count": null,
   "id": "d092b534-cf05-4b17-9509-7f11f64efe55",
   "metadata": {},
   "outputs": [],
   "source": []
  },
  {
   "cell_type": "code",
   "execution_count": null,
   "id": "a182cb95-deb5-47f6-8f8d-998402f48c0d",
   "metadata": {},
   "outputs": [],
   "source": []
  },
  {
   "cell_type": "code",
   "execution_count": null,
   "id": "4b63b95d-fb24-4d1f-b707-0fc38302ecb9",
   "metadata": {},
   "outputs": [],
   "source": []
  }
 ],
 "metadata": {
  "kernelspec": {
   "display_name": "Ruby 3.1.1",
   "language": "ruby",
   "name": "ruby"
  },
  "language_info": {
   "file_extension": ".rb",
   "mimetype": "application/x-ruby",
   "name": "ruby",
   "version": "3.1.1"
  }
 },
 "nbformat": 4,
 "nbformat_minor": 5
}
