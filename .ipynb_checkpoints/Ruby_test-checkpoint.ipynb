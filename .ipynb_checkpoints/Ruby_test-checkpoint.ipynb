{
 "cells": [
  {
   "cell_type": "code",
   "execution_count": 2,
   "id": "655789d2-41fd-4f8b-b803-f583f4490754",
   "metadata": {},
   "outputs": [],
   "source": [
    "puts \"hello!\""
   ]
  },
  {
   "cell_type": "code",
   "execution_count": 1,
   "id": "651b55cd-3c01-4515-a41d-7edc490315b3",
   "metadata": {},
   "outputs": [],
   "source": [
    "a = 11"
   ]
  },
  {
   "cell_type": "code",
   "execution_count": 3,
   "id": "ed3f0327-8395-49e2-afd3-75e2b52d0a0c",
   "metadata": {},
   "outputs": [
    {
     "ename": "Interrupt",
     "evalue": "",
     "output_type": "error",
     "traceback": [
      "\u001b[31mInterrupt\u001b[0m: ",
      "/Users/fernando.guillen/.rbenv/versions/3.1.1/lib/ruby/gems/3.1.0/gems/ffi-rzmq-2.0.7/lib/ffi-rzmq/socket.rb:584:in `zmq_recvmsg'",
      "/Users/fernando.guillen/.rbenv/versions/3.1.1/lib/ruby/gems/3.1.0/gems/ffi-rzmq-2.0.7/lib/ffi-rzmq/socket.rb:584:in `__recvmsg__'",
      "/Users/fernando.guillen/.rbenv/versions/3.1.1/lib/ruby/gems/3.1.0/gems/ffi-rzmq-2.0.7/lib/ffi-rzmq/socket.rb:321:in `recvmsg'",
      "/Users/fernando.guillen/.rbenv/versions/3.1.1/lib/ruby/gems/3.1.0/gems/ffi-rzmq-2.0.7/lib/ffi-rzmq/socket.rb:342:in `recv_string'",
      "/Users/fernando.guillen/.rbenv/versions/3.1.1/lib/ruby/gems/3.1.0/gems/iruby-0.7.4/lib/iruby/session_adapter/ffirzmq_adapter.rb:19:in `recv'",
      "/Users/fernando.guillen/.rbenv/versions/3.1.1/lib/ruby/gems/3.1.0/gems/iruby-0.7.4/lib/iruby/session.rb:91:in `recv'",
      "/Users/fernando.guillen/.rbenv/versions/3.1.1/lib/ruby/gems/3.1.0/gems/iruby-0.7.4/lib/iruby/kernel.rb:133:in `dispatch'",
      "/Users/fernando.guillen/.rbenv/versions/3.1.1/lib/ruby/gems/3.1.0/gems/iruby-0.7.4/lib/iruby/kernel.rb:127:in `run'",
      "/Users/fernando.guillen/.rbenv/versions/3.1.1/lib/ruby/gems/3.1.0/gems/iruby-0.7.4/lib/iruby/command.rb:106:in `run_kernel'",
      "/Users/fernando.guillen/.rbenv/versions/3.1.1/lib/ruby/gems/3.1.0/gems/iruby-0.7.4/lib/iruby/command.rb:37:in `run'",
      "/Users/fernando.guillen/.rbenv/versions/3.1.1/lib/ruby/gems/3.1.0/gems/iruby-0.7.4/bin/iruby:5:in `<top (required)>'",
      "/Users/fernando.guillen/.rbenv/versions/3.1.1/bin/iruby:25:in `load'",
      "/Users/fernando.guillen/.rbenv/versions/3.1.1/bin/iruby:25:in `<main>'"
     ]
    },
    {
     "ename": "SignalException",
     "evalue": "SIGTERM",
     "output_type": "error",
     "traceback": [
      "\u001b[31mSignalException\u001b[0m: SIGTERM",
      "/Users/fernando.guillen/.rbenv/versions/3.1.1/lib/ruby/gems/3.1.0/gems/ffi-rzmq-2.0.7/lib/ffi-rzmq/socket.rb:584:in `zmq_recvmsg'",
      "/Users/fernando.guillen/.rbenv/versions/3.1.1/lib/ruby/gems/3.1.0/gems/ffi-rzmq-2.0.7/lib/ffi-rzmq/socket.rb:584:in `__recvmsg__'",
      "/Users/fernando.guillen/.rbenv/versions/3.1.1/lib/ruby/gems/3.1.0/gems/ffi-rzmq-2.0.7/lib/ffi-rzmq/socket.rb:321:in `recvmsg'",
      "/Users/fernando.guillen/.rbenv/versions/3.1.1/lib/ruby/gems/3.1.0/gems/ffi-rzmq-2.0.7/lib/ffi-rzmq/socket.rb:342:in `recv_string'",
      "/Users/fernando.guillen/.rbenv/versions/3.1.1/lib/ruby/gems/3.1.0/gems/iruby-0.7.4/lib/iruby/session_adapter/ffirzmq_adapter.rb:19:in `recv'",
      "/Users/fernando.guillen/.rbenv/versions/3.1.1/lib/ruby/gems/3.1.0/gems/iruby-0.7.4/lib/iruby/session.rb:91:in `recv'",
      "/Users/fernando.guillen/.rbenv/versions/3.1.1/lib/ruby/gems/3.1.0/gems/iruby-0.7.4/lib/iruby/kernel.rb:133:in `dispatch'",
      "/Users/fernando.guillen/.rbenv/versions/3.1.1/lib/ruby/gems/3.1.0/gems/iruby-0.7.4/lib/iruby/kernel.rb:127:in `run'",
      "/Users/fernando.guillen/.rbenv/versions/3.1.1/lib/ruby/gems/3.1.0/gems/iruby-0.7.4/lib/iruby/command.rb:106:in `run_kernel'",
      "/Users/fernando.guillen/.rbenv/versions/3.1.1/lib/ruby/gems/3.1.0/gems/iruby-0.7.4/lib/iruby/command.rb:37:in `run'",
      "/Users/fernando.guillen/.rbenv/versions/3.1.1/lib/ruby/gems/3.1.0/gems/iruby-0.7.4/bin/iruby:5:in `<top (required)>'",
      "/Users/fernando.guillen/.rbenv/versions/3.1.1/bin/iruby:25:in `load'",
      "/Users/fernando.guillen/.rbenv/versions/3.1.1/bin/iruby:25:in `<main>'"
     ]
    }
   ],
   "source": [
    "puts a\n"
   ]
  },
  {
   "cell_type": "code",
   "execution_count": null,
   "id": "3855a2d3-864c-4e45-b8ea-c3d448d32c24",
   "metadata": {},
   "outputs": [],
   "source": []
  },
  {
   "cell_type": "code",
   "execution_count": null,
   "id": "c6de798e-7c5c-488f-81ee-a139f99fcd9b",
   "metadata": {},
   "outputs": [],
   "source": []
  },
  {
   "cell_type": "code",
   "execution_count": null,
   "id": "d092b534-cf05-4b17-9509-7f11f64efe55",
   "metadata": {},
   "outputs": [],
   "source": []
  }
 ],
 "metadata": {
  "kernelspec": {
   "display_name": "Ruby 3.1.1",
   "language": "ruby",
   "name": "ruby"
  },
  "language_info": {
   "file_extension": ".rb",
   "mimetype": "application/x-ruby",
   "name": "ruby",
   "version": "3.1.1"
  }
 },
 "nbformat": 4,
 "nbformat_minor": 5
}
